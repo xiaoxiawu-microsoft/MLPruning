{
 "cells": [
  {
   "cell_type": "code",
   "execution_count": 1,
   "metadata": {},
   "outputs": [],
   "source": [
    "import torch\n",
    "from matplotlib import rc\n",
    "import matplotlib.pyplot as plt\n",
    "import pandas as pd\n",
    "import numpy as np\n",
    "import collections\n",
    "import glob\n",
    "import csv\n",
    "import json\n",
    "import ast\n",
    "import re\n",
    "def get_dict1(files, stat=None):\n",
    "    if stat is None:\n",
    "        stat = collections.defaultdict(list)\n",
    "    for file_name in files:\n",
    "        name = file_name.split('/training_log.txt')[0]\n",
    "        with open(file_name) as file:\n",
    "            lines = file.readlines()\n",
    "            lines = [line.rstrip() for line in lines]\n",
    "        if not stat[name]:\n",
    "            stat[name] = collections.defaultdict(list)\n",
    "        i = 0\n",
    "\n",
    "        while i < len(lines):\n",
    "            if \"step: \" in lines[i]:\n",
    "                for j in range(i,len(lines)):#range(22):\n",
    "                    try:\n",
    "                        step = float(lines[j].split('00:')[0].split('step:')[-1].strip())*100\n",
    "                        get_dic = json.loads(json.dumps(ast.literal_eval(lines[j].split('00:')[-1].strip())))\n",
    "                        for name_in in get_dic.keys():\n",
    "                            stat[name][name_in].append([step,float(get_dic[name_in])])\n",
    "                    except:\n",
    "                        pass\n",
    "                i += j\n",
    "            else:\n",
    "                i += 1\n",
    "    return stat\n",
    "def figure(stat, names, index,key=''):\n",
    "    fig,ax1s = plt.subplots(1,3,figsize=(int(1.3*6*3),int(1.3*6)),sharey=True) \n",
    "    fig.tight_layout()\n",
    "    for name,ax1 in zip(names, ax1s):\n",
    "        print ()\n",
    "        xy = np.array(stat[key][name])\n",
    "        x, y = xy[:,0], xy[:,1]\n",
    "        ax1.plot(x,y, 'o-',label=name)\n",
    "        ax1.set_title(\"metric: %s with %3f\"%(name,max(y)), fontsize = 20,)\n",
    "        ax1.legend(prop={'size': 20},)\n",
    "        for label in (ax1.get_xticklabels()):    \n",
    "            label.set_fontsize(20)\n",
    "        for label in (ax1.get_yticklabels()):    \n",
    "            label.set_fontsize(20)\n",
    "\n",
    "        ax1.set_xlabel('epoch', fontsize = 20,)\n",
    "        if index!=0:\n",
    "            ax1.set_yscale('log')\n",
    "        ax1.set_ylabel(name, color='black', fontsize = 20)\n",
    "        ax1.grid(color='b', linestyle='--', linewidth=0.68)\n",
    "    plt.show()"
   ]
  },
  {
   "cell_type": "code",
   "execution_count": 2,
   "metadata": {},
   "outputs": [],
   "source": [
    "file_name = '/home/xiaoxiawu/MLPruning/training/result/e/1.0/training_log.txt'\n",
    "files = [file_name, ]\n",
    "stat = get_dict1(files)"
   ]
  },
  {
   "cell_type": "code",
   "execution_count": 3,
   "metadata": {},
   "outputs": [
    {
     "name": "stdout",
     "output_type": "stream",
     "text": [
      "\n"
     ]
    },
    {
     "ename": "IndexError",
     "evalue": "too many indices for array: array is 1-dimensional, but 2 were indexed",
     "output_type": "error",
     "traceback": [
      "\u001b[0;31m---------------------------------------------------------------------------\u001b[0m",
      "\u001b[0;31mIndexError\u001b[0m                                Traceback (most recent call last)",
      "\u001b[0;32m<ipython-input-3-5b1ab585b98e>\u001b[0m in \u001b[0;36m<module>\u001b[0;34m\u001b[0m\n\u001b[1;32m      1\u001b[0m \u001b[0mnames11\u001b[0m \u001b[0;34m=\u001b[0m \u001b[0;34m[\u001b[0m\u001b[0;34m'eval_acc'\u001b[0m\u001b[0;34m,\u001b[0m \u001b[0;34m'eval_f1'\u001b[0m\u001b[0;34m,\u001b[0m \u001b[0;34m'eval_acc_and_f1'\u001b[0m\u001b[0;34m,\u001b[0m \u001b[0;34m'learning_rate'\u001b[0m\u001b[0;34m,\u001b[0m \u001b[0;34m'learning_rate/1'\u001b[0m\u001b[0;34m,\u001b[0m  \u001b[0;34m'loss'\u001b[0m\u001b[0;34m]\u001b[0m\u001b[0;34m\u001b[0m\u001b[0;34m\u001b[0m\u001b[0m\n\u001b[1;32m      2\u001b[0m \u001b[0;32mfor\u001b[0m \u001b[0mindex\u001b[0m\u001b[0;34m,\u001b[0m \u001b[0mnames1\u001b[0m \u001b[0;32min\u001b[0m \u001b[0menumerate\u001b[0m\u001b[0;34m(\u001b[0m\u001b[0;34m[\u001b[0m\u001b[0mnames11\u001b[0m\u001b[0;34m[\u001b[0m\u001b[0;34m:\u001b[0m\u001b[0;36m3\u001b[0m\u001b[0;34m]\u001b[0m\u001b[0;34m,\u001b[0m\u001b[0mnames11\u001b[0m\u001b[0;34m[\u001b[0m\u001b[0;36m3\u001b[0m\u001b[0;34m:\u001b[0m\u001b[0;34m]\u001b[0m \u001b[0;34m]\u001b[0m\u001b[0;34m)\u001b[0m\u001b[0;34m:\u001b[0m\u001b[0;34m\u001b[0m\u001b[0;34m\u001b[0m\u001b[0m\n\u001b[0;32m----> 3\u001b[0;31m     \u001b[0mfigure\u001b[0m\u001b[0;34m(\u001b[0m\u001b[0mstat\u001b[0m\u001b[0;34m,\u001b[0m \u001b[0mnames1\u001b[0m\u001b[0;34m,\u001b[0m\u001b[0mindex\u001b[0m\u001b[0;34m,\u001b[0m\u001b[0mkey\u001b[0m\u001b[0;34m=\u001b[0m\u001b[0;34m'/home/xiaoxiawu/MLPruning/training/result/e/1.0'\u001b[0m\u001b[0;34m)\u001b[0m\u001b[0;34m\u001b[0m\u001b[0;34m\u001b[0m\u001b[0m\n\u001b[0m",
      "\u001b[0;32m<ipython-input-1-c6fb2cb15116>\u001b[0m in \u001b[0;36mfigure\u001b[0;34m(stat, names, index, key)\u001b[0m\n\u001b[1;32m     42\u001b[0m         \u001b[0mprint\u001b[0m \u001b[0;34m(\u001b[0m\u001b[0;34m)\u001b[0m\u001b[0;34m\u001b[0m\u001b[0;34m\u001b[0m\u001b[0m\n\u001b[1;32m     43\u001b[0m         \u001b[0mxy\u001b[0m \u001b[0;34m=\u001b[0m \u001b[0mnp\u001b[0m\u001b[0;34m.\u001b[0m\u001b[0marray\u001b[0m\u001b[0;34m(\u001b[0m\u001b[0mstat\u001b[0m\u001b[0;34m[\u001b[0m\u001b[0mkey\u001b[0m\u001b[0;34m]\u001b[0m\u001b[0;34m[\u001b[0m\u001b[0mname\u001b[0m\u001b[0;34m]\u001b[0m\u001b[0;34m)\u001b[0m\u001b[0;34m\u001b[0m\u001b[0;34m\u001b[0m\u001b[0m\n\u001b[0;32m---> 44\u001b[0;31m         \u001b[0mx\u001b[0m\u001b[0;34m,\u001b[0m \u001b[0my\u001b[0m \u001b[0;34m=\u001b[0m \u001b[0mxy\u001b[0m\u001b[0;34m[\u001b[0m\u001b[0;34m:\u001b[0m\u001b[0;34m,\u001b[0m\u001b[0;36m0\u001b[0m\u001b[0;34m]\u001b[0m\u001b[0;34m,\u001b[0m \u001b[0mxy\u001b[0m\u001b[0;34m[\u001b[0m\u001b[0;34m:\u001b[0m\u001b[0;34m,\u001b[0m\u001b[0;36m1\u001b[0m\u001b[0;34m]\u001b[0m\u001b[0;34m\u001b[0m\u001b[0;34m\u001b[0m\u001b[0m\n\u001b[0m\u001b[1;32m     45\u001b[0m         \u001b[0max1\u001b[0m\u001b[0;34m.\u001b[0m\u001b[0mplot\u001b[0m\u001b[0;34m(\u001b[0m\u001b[0mx\u001b[0m\u001b[0;34m,\u001b[0m\u001b[0my\u001b[0m\u001b[0;34m,\u001b[0m \u001b[0;34m'o-'\u001b[0m\u001b[0;34m,\u001b[0m\u001b[0mlabel\u001b[0m\u001b[0;34m=\u001b[0m\u001b[0mname\u001b[0m\u001b[0;34m)\u001b[0m\u001b[0;34m\u001b[0m\u001b[0;34m\u001b[0m\u001b[0m\n\u001b[1;32m     46\u001b[0m         \u001b[0max1\u001b[0m\u001b[0;34m.\u001b[0m\u001b[0mset_title\u001b[0m\u001b[0;34m(\u001b[0m\u001b[0;34m\"metric: %s with %3f\"\u001b[0m\u001b[0;34m%\u001b[0m\u001b[0;34m(\u001b[0m\u001b[0mname\u001b[0m\u001b[0;34m,\u001b[0m\u001b[0mmax\u001b[0m\u001b[0;34m(\u001b[0m\u001b[0my\u001b[0m\u001b[0;34m)\u001b[0m\u001b[0;34m)\u001b[0m\u001b[0;34m,\u001b[0m \u001b[0mfontsize\u001b[0m \u001b[0;34m=\u001b[0m \u001b[0;36m20\u001b[0m\u001b[0;34m,\u001b[0m\u001b[0;34m)\u001b[0m\u001b[0;34m\u001b[0m\u001b[0;34m\u001b[0m\u001b[0m\n",
      "\u001b[0;31mIndexError\u001b[0m: too many indices for array: array is 1-dimensional, but 2 were indexed"
     ]
    },
    {
     "data": {
      "image/png": "[encoded data removed]",
      "text/plain": [
       "<Figure size 1656x504 with 3 Axes>"
      ]
     },
     "metadata": {
      "needs_background": "light"
     },
     "output_type": "display_data"
    }
   ],
   "source": [
    "names11 = ['eval_acc', 'eval_f1', 'eval_acc_and_f1', 'learning_rate', 'learning_rate/1',  'loss']\n",
    "for index, names1 in enumerate([names11[:3],names11[3:] ]):\n",
    "    figure(stat, names1,index,key='/home/xiaoxiawu/MLPruning/training/result/e/1.0')"
   ]
  },
  {
   "cell_type": "code",
   "execution_count": null,
   "metadata": {},
   "outputs": [],
   "source": []
  }
 ],
 "metadata": {
  "kernelspec": {
   "display_name": "Python 3",
   "language": "python",
   "name": "python3"
  },
  "language_info": {
   "codemirror_mode": {
    "name": "ipython",
    "version": 3
   },
   "file_extension": ".py",
   "mimetype": "text/x-python",
   "name": "python",
   "nbconvert_exporter": "python",
   "pygments_lexer": "ipython3",
   "version": "3.6.10"
  }
 },
 "nbformat": 4,
 "nbformat_minor": 4
}
